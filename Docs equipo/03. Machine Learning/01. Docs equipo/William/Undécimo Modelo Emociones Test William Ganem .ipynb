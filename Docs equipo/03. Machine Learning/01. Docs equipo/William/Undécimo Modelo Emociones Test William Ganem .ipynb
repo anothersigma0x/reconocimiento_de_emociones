{
 "cells": [
  {
   "cell_type": "code",
   "execution_count": 1,
   "id": "7f1e39cc-5250-48a9-afe0-e5173dfc44b2",
   "metadata": {},
   "outputs": [],
   "source": [
    "import os\n",
    "import numpy as np\n",
    "import tensorflow as tf\n",
    "from tensorflow.keras.preprocessing.image import ImageDataGenerator\n",
    "from tensorflow.keras.models import Model\n",
    "from tensorflow.keras.layers import Input, Conv2D, SeparableConv2D, MaxPooling2D, GlobalAveragePooling2D, Dense, Dropout, BatchNormalization, Activation, Add\n",
    "from tensorflow.keras.optimizers import Adam\n",
    "from sklearn.metrics import classification_report, confusion_matrix, f1_score\n",
    "import seaborn as sns\n",
    "import matplotlib.pyplot as plt\n",
    "import pickle"
   ]
  },
  {
   "cell_type": "code",
   "execution_count": 2,
   "id": "7798d2a6-370c-4873-b1bd-692c828628e0",
   "metadata": {},
   "outputs": [],
   "source": [
    "# Rutas completas\n",
    "TRAIN_PATH = r\"C:\\Users\\maria\\OneDrive\\Documentos\\AnotherSigma\\PONTIA\\PROYECTO JUPITER\\archive\\train\"\n",
    "TEST_PATH = r\"C:\\Users\\maria\\OneDrive\\Documentos\\AnotherSigma\\PONTIA\\PROYECTO JUPITER\\archive\\test\"\n",
    "BASE_PATH = r\"C:\\Users\\maria\\OneDrive\\Documentos\\AnotherSigma\\PONTIA\\PROYECTO JUPITER\\archive\""
   ]
  },
  {
   "cell_type": "code",
   "execution_count": 3,
   "id": "af18e006-e1a5-4cd1-9c5d-abdb74d9c7de",
   "metadata": {},
   "outputs": [],
   "source": [
    "# Definir las dimensiones de las imágenes (48x48, 1 canal para escala de grises)\n",
    "IMG_HEIGHT = 48\n",
    "IMG_WIDTH = 48\n",
    "BATCH_SIZE = 32\n",
    "CHANNELS = 1  # Escala de grises"
   ]
  },
  {
   "cell_type": "code",
   "execution_count": 4,
   "id": "2c9f223e-3428-4e0b-9218-10bfbe4c6adb",
   "metadata": {},
   "outputs": [],
   "source": [
    "# Definir las clases (emociones en inglés)\n",
    "CLASSES = ['surprise', 'happy', 'neutral', 'angry', 'fear', 'sad', 'disgust']"
   ]
  },
  {
   "cell_type": "code",
   "execution_count": 5,
   "id": "cf3d8cc2-2b44-4e74-9bea-28fd23a17e18",
   "metadata": {},
   "outputs": [],
   "source": [
    "# Crear generadores de datos con aumentación (mismo nivel que el modelo original)\n",
    "datagen = ImageDataGenerator(\n",
    "    rescale=1./255,\n",
    "    rotation_range=30,\n",
    "    width_shift_range=0.3,\n",
    "    height_shift_range=0.3,\n",
    "    shear_range=0.3,\n",
    "    zoom_range=0.3,\n",
    "    brightness_range=[0.8, 1.2],\n",
    "    horizontal_flip=True,\n",
    "    fill_mode='nearest',\n",
    "    validation_split=0.2\n",
    ")"
   ]
  },
  {
   "cell_type": "code",
   "execution_count": 6,
   "id": "cd961a81-37d3-4fb9-b4dd-583320dd3296",
   "metadata": {},
   "outputs": [
    {
     "name": "stdout",
     "output_type": "stream",
     "text": [
      "Found 22968 images belonging to 7 classes.\n"
     ]
    }
   ],
   "source": [
    "# Generador para el conjunto de entrenamiento\n",
    "train_generator = datagen.flow_from_directory(\n",
    "    TRAIN_PATH,\n",
    "    target_size=(IMG_HEIGHT, IMG_WIDTH),\n",
    "    color_mode='grayscale',\n",
    "    batch_size=BATCH_SIZE,\n",
    "    class_mode='categorical',\n",
    "    classes=CLASSES,\n",
    "    subset='training',\n",
    "    shuffle=True\n",
    ")"
   ]
  },
  {
   "cell_type": "code",
   "execution_count": 7,
   "id": "f768a0b3-ce09-4989-a70e-3c0817d908f2",
   "metadata": {},
   "outputs": [
    {
     "name": "stdout",
     "output_type": "stream",
     "text": [
      "Found 5741 images belonging to 7 classes.\n"
     ]
    }
   ],
   "source": [
    "# Generador para el conjunto de validación\n",
    "validation_generator = datagen.flow_from_directory(\n",
    "    TRAIN_PATH,\n",
    "    target_size=(IMG_HEIGHT, IMG_WIDTH),\n",
    "    color_mode='grayscale',\n",
    "    batch_size=BATCH_SIZE,\n",
    "    class_mode='categorical',\n",
    "    classes=CLASSES,\n",
    "    subset='validation',\n",
    "    shuffle=False\n",
    ")"
   ]
  },
  {
   "cell_type": "code",
   "execution_count": 8,
   "id": "324e054a-e84a-40a6-97bd-566b8f36556c",
   "metadata": {},
   "outputs": [
    {
     "name": "stdout",
     "output_type": "stream",
     "text": [
      "Found 7178 images belonging to 7 classes.\n"
     ]
    }
   ],
   "source": [
    "# Generador para el conjunto de prueba (sin aumentación)\n",
    "test_datagen = ImageDataGenerator(rescale=1./255)\n",
    "\n",
    "test_generator = test_datagen.flow_from_directory(\n",
    "    TEST_PATH,\n",
    "    target_size=(IMG_HEIGHT, IMG_WIDTH),\n",
    "    color_mode='grayscale',\n",
    "    batch_size=BATCH_SIZE,\n",
    "    class_mode='categorical',\n",
    "    classes=CLASSES,\n",
    "    shuffle=False\n",
    ")\n"
   ]
  },
  {
   "cell_type": "code",
   "execution_count": 9,
   "id": "da54a68e-483e-4975-9b23-f8f9b4d7aa66",
   "metadata": {},
   "outputs": [
    {
     "name": "stdout",
     "output_type": "stream",
     "text": [
      "Número de clases: 7\n",
      "Clases: {'surprise': 0, 'happy': 1, 'neutral': 2, 'angry': 3, 'fear': 4, 'sad': 5, 'disgust': 6}\n"
     ]
    }
   ],
   "source": [
    "# Obtener el número de clases y el mapeo de clases\n",
    "num_classes = len(CLASSES)\n",
    "class_indices = train_generator.class_indices\n",
    "print(\"Número de clases:\", num_classes)\n",
    "print(\"Clases:\", class_indices)"
   ]
  },
  {
   "cell_type": "code",
   "execution_count": 10,
   "id": "316e4099-b246-4e42-8d9a-975ca4e20963",
   "metadata": {},
   "outputs": [],
   "source": [
    "# Implementar Focal Loss\n",
    "def focal_loss(gamma=2.0, alpha=0.25):\n",
    "    def focal_loss_fixed(y_true, y_pred):\n",
    "        # Convertir y_true y y_pred a float32 para evitar problemas de tipo\n",
    "        y_true = tf.cast(y_true, tf.float32)\n",
    "        y_pred = tf.cast(y_pred, tf.float32)\n",
    "        \n",
    "        # Clip para evitar log(0)\n",
    "        y_pred = tf.clip_by_value(y_pred, tf.keras.backend.epsilon(), 1.0 - tf.keras.backend.epsilon())\n",
    "        \n",
    "        # Calcular la pérdida de entropía cruzada\n",
    "        cross_entropy = -y_true * tf.math.log(y_pred)\n",
    "        \n",
    "        # Calcular el factor de focal loss\n",
    "        weight = alpha * y_true * tf.pow(1.0 - y_pred, gamma)\n",
    "        \n",
    "        # Calcular la pérdida focal\n",
    "        loss = weight * cross_entropy\n",
    "        \n",
    "        # Sumar a lo largo de las clases\n",
    "        return tf.reduce_sum(loss, axis=-1)\n",
    "    \n",
    "    return focal_loss_fixed"
   ]
  },
  {
   "cell_type": "code",
   "execution_count": 11,
   "id": "4bab8d68-13bd-452a-b047-426a19fa43af",
   "metadata": {},
   "outputs": [],
   "source": [
    "# Construir la arquitectura Mini-Xception original\n",
    "def mini_xception(input_shape, num_classes):\n",
    "    input_layer = Input(shape=input_shape)\n",
    "\n",
    "    # Primer bloque\n",
    "    x = Conv2D(8, (3, 3), padding='same', strides=(1, 1), use_bias=False)(input_layer)\n",
    "    x = BatchNormalization()(x)\n",
    "    x = Activation('relu')(x)\n",
    "    x = Conv2D(8, (3, 3), padding='same', strides=(1, 1), use_bias=False)(x)\n",
    "    x = BatchNormalization()(x)\n",
    "    x = Activation('relu')(x)\n",
    "\n",
    "    # Primer módulo residual\n",
    "    residual = Conv2D(16, (1, 1), strides=(1, 1), padding='same', use_bias=False)(x)\n",
    "    residual = BatchNormalization()(residual)\n",
    "    residual = MaxPooling2D((3, 3), strides=(2, 2), padding='same')(residual)\n",
    "\n",
    "    x = SeparableConv2D(16, (3, 3), padding='same', use_bias=False)(x)\n",
    "    x = BatchNormalization()(x)\n",
    "    x = Activation('relu')(x)\n",
    "    x = SeparableConv2D(16, (3, 3), padding='same', use_bias=False)(x)\n",
    "    x = BatchNormalization()(x)\n",
    "    x = MaxPooling2D((3, 3), strides=(2, 2), padding='same')(x)\n",
    "    x = Add()([x, residual])\n",
    "\n",
    "    # Segundo módulo residual\n",
    "    residual = Conv2D(32, (1, 1), strides=(1, 1), padding='same', use_bias=False)(x)\n",
    "    residual = BatchNormalization()(residual)\n",
    "    residual = MaxPooling2D((3, 3), strides=(2, 2), padding='same')(residual)\n",
    "\n",
    "    x = SeparableConv2D(32, (3, 3), padding='same', use_bias=False)(x)\n",
    "    x = BatchNormalization()(x)\n",
    "    x = Activation('relu')(x)\n",
    "    x = SeparableConv2D(32, (3, 3), padding='same', use_bias=False)(x)\n",
    "    x = BatchNormalization()(x)\n",
    "    x = MaxPooling2D((3, 3), strides=(2, 2), padding='same')(x)\n",
    "    x = Add()([x, residual])\n",
    "\n",
    "    # Tercer módulo residual\n",
    "    residual = Conv2D(64, (1, 1), strides=(1, 1), padding='same', use_bias=False)(x)\n",
    "    residual = BatchNormalization()(residual)\n",
    "    residual = MaxPooling2D((3, 3), strides=(2, 2), padding='same')(residual)\n",
    "\n",
    "    x = SeparableConv2D(64, (3, 3), padding='same', use_bias=False)(x)\n",
    "    x = BatchNormalization()(x)\n",
    "    x = Activation('relu')(x)\n",
    "    x = SeparableConv2D(64, (3, 3), padding='same', use_bias=False)(x)\n",
    "    x = BatchNormalization()(x)\n",
    "    x = MaxPooling2D((3, 3), strides=(2, 2), padding='same')(x)\n",
    "    x = Add()([x, residual])\n",
    "\n",
    "    # Capa final\n",
    "    x = GlobalAveragePooling2D()(x)\n",
    "    x = Dense(128, activation='relu')(x)\n",
    "    x = Dropout(0.5)(x)\n",
    "    output = Dense(num_classes, activation='softmax')(x)\n",
    "\n",
    "    model = Model(inputs=input_layer, outputs=output)\n",
    "    return model"
   ]
  },
  {
   "cell_type": "code",
   "execution_count": 12,
   "id": "697286d0-0d4a-48a6-9a64-0c9d7a8e9756",
   "metadata": {},
   "outputs": [],
   "source": [
    "# Crear el modelo Mini-Xception\n",
    "model = mini_xception(input_shape=(IMG_HEIGHT, IMG_WIDTH, CHANNELS), num_classes=num_classes)"
   ]
  },
  {
   "cell_type": "code",
   "execution_count": 13,
   "id": "c13928b0-8907-40f8-8971-132829a31517",
   "metadata": {},
   "outputs": [],
   "source": [
    "# Compilar el modelo con Focal Loss\n",
    "model.compile(optimizer=Adam(learning_rate=1e-3), loss=focal_loss(gamma=2.0, alpha=0.25), metrics=['accuracy'])"
   ]
  },
  {
   "cell_type": "code",
   "execution_count": 14,
   "id": "d5728809-2c65-4641-98c8-b70719184efd",
   "metadata": {},
   "outputs": [
    {
     "name": "stdout",
     "output_type": "stream",
     "text": [
      "Model: \"model\"\n",
      "__________________________________________________________________________________________________\n",
      " Layer (type)                   Output Shape         Param #     Connected to                     \n",
      "==================================================================================================\n",
      " input_1 (InputLayer)           [(None, 48, 48, 1)]  0           []                               \n",
      "                                                                                                  \n",
      " conv2d (Conv2D)                (None, 48, 48, 8)    72          ['input_1[0][0]']                \n",
      "                                                                                                  \n",
      " batch_normalization (BatchNorm  (None, 48, 48, 8)   32          ['conv2d[0][0]']                 \n",
      " alization)                                                                                       \n",
      "                                                                                                  \n",
      " activation (Activation)        (None, 48, 48, 8)    0           ['batch_normalization[0][0]']    \n",
      "                                                                                                  \n",
      " conv2d_1 (Conv2D)              (None, 48, 48, 8)    576         ['activation[0][0]']             \n",
      "                                                                                                  \n",
      " batch_normalization_1 (BatchNo  (None, 48, 48, 8)   32          ['conv2d_1[0][0]']               \n",
      " rmalization)                                                                                     \n",
      "                                                                                                  \n",
      " activation_1 (Activation)      (None, 48, 48, 8)    0           ['batch_normalization_1[0][0]']  \n",
      "                                                                                                  \n",
      " separable_conv2d (SeparableCon  (None, 48, 48, 16)  200         ['activation_1[0][0]']           \n",
      " v2D)                                                                                             \n",
      "                                                                                                  \n",
      " batch_normalization_3 (BatchNo  (None, 48, 48, 16)  64          ['separable_conv2d[0][0]']       \n",
      " rmalization)                                                                                     \n",
      "                                                                                                  \n",
      " activation_2 (Activation)      (None, 48, 48, 16)   0           ['batch_normalization_3[0][0]']  \n",
      "                                                                                                  \n",
      " separable_conv2d_1 (SeparableC  (None, 48, 48, 16)  400         ['activation_2[0][0]']           \n",
      " onv2D)                                                                                           \n",
      "                                                                                                  \n",
      " conv2d_2 (Conv2D)              (None, 48, 48, 16)   128         ['activation_1[0][0]']           \n",
      "                                                                                                  \n",
      " batch_normalization_4 (BatchNo  (None, 48, 48, 16)  64          ['separable_conv2d_1[0][0]']     \n",
      " rmalization)                                                                                     \n",
      "                                                                                                  \n",
      " batch_normalization_2 (BatchNo  (None, 48, 48, 16)  64          ['conv2d_2[0][0]']               \n",
      " rmalization)                                                                                     \n",
      "                                                                                                  \n",
      " max_pooling2d_1 (MaxPooling2D)  (None, 24, 24, 16)  0           ['batch_normalization_4[0][0]']  \n",
      "                                                                                                  \n",
      " max_pooling2d (MaxPooling2D)   (None, 24, 24, 16)   0           ['batch_normalization_2[0][0]']  \n",
      "                                                                                                  \n",
      " add (Add)                      (None, 24, 24, 16)   0           ['max_pooling2d_1[0][0]',        \n",
      "                                                                  'max_pooling2d[0][0]']          \n",
      "                                                                                                  \n",
      " separable_conv2d_2 (SeparableC  (None, 24, 24, 32)  656         ['add[0][0]']                    \n",
      " onv2D)                                                                                           \n",
      "                                                                                                  \n",
      " batch_normalization_6 (BatchNo  (None, 24, 24, 32)  128         ['separable_conv2d_2[0][0]']     \n",
      " rmalization)                                                                                     \n",
      "                                                                                                  \n",
      " activation_3 (Activation)      (None, 24, 24, 32)   0           ['batch_normalization_6[0][0]']  \n",
      "                                                                                                  \n",
      " separable_conv2d_3 (SeparableC  (None, 24, 24, 32)  1312        ['activation_3[0][0]']           \n",
      " onv2D)                                                                                           \n",
      "                                                                                                  \n",
      " conv2d_3 (Conv2D)              (None, 24, 24, 32)   512         ['add[0][0]']                    \n",
      "                                                                                                  \n",
      " batch_normalization_7 (BatchNo  (None, 24, 24, 32)  128         ['separable_conv2d_3[0][0]']     \n",
      " rmalization)                                                                                     \n",
      "                                                                                                  \n",
      " batch_normalization_5 (BatchNo  (None, 24, 24, 32)  128         ['conv2d_3[0][0]']               \n",
      " rmalization)                                                                                     \n",
      "                                                                                                  \n",
      " max_pooling2d_3 (MaxPooling2D)  (None, 12, 12, 32)  0           ['batch_normalization_7[0][0]']  \n",
      "                                                                                                  \n",
      " max_pooling2d_2 (MaxPooling2D)  (None, 12, 12, 32)  0           ['batch_normalization_5[0][0]']  \n",
      "                                                                                                  \n",
      " add_1 (Add)                    (None, 12, 12, 32)   0           ['max_pooling2d_3[0][0]',        \n",
      "                                                                  'max_pooling2d_2[0][0]']        \n",
      "                                                                                                  \n",
      " separable_conv2d_4 (SeparableC  (None, 12, 12, 64)  2336        ['add_1[0][0]']                  \n",
      " onv2D)                                                                                           \n",
      "                                                                                                  \n",
      " batch_normalization_9 (BatchNo  (None, 12, 12, 64)  256         ['separable_conv2d_4[0][0]']     \n",
      " rmalization)                                                                                     \n",
      "                                                                                                  \n",
      " activation_4 (Activation)      (None, 12, 12, 64)   0           ['batch_normalization_9[0][0]']  \n",
      "                                                                                                  \n",
      " separable_conv2d_5 (SeparableC  (None, 12, 12, 64)  4672        ['activation_4[0][0]']           \n",
      " onv2D)                                                                                           \n",
      "                                                                                                  \n",
      " conv2d_4 (Conv2D)              (None, 12, 12, 64)   2048        ['add_1[0][0]']                  \n",
      "                                                                                                  \n",
      " batch_normalization_10 (BatchN  (None, 12, 12, 64)  256         ['separable_conv2d_5[0][0]']     \n",
      " ormalization)                                                                                    \n",
      "                                                                                                  \n",
      " batch_normalization_8 (BatchNo  (None, 12, 12, 64)  256         ['conv2d_4[0][0]']               \n",
      " rmalization)                                                                                     \n",
      "                                                                                                  \n",
      " max_pooling2d_5 (MaxPooling2D)  (None, 6, 6, 64)    0           ['batch_normalization_10[0][0]'] \n",
      "                                                                                                  \n",
      " max_pooling2d_4 (MaxPooling2D)  (None, 6, 6, 64)    0           ['batch_normalization_8[0][0]']  \n",
      "                                                                                                  \n",
      " add_2 (Add)                    (None, 6, 6, 64)     0           ['max_pooling2d_5[0][0]',        \n",
      "                                                                  'max_pooling2d_4[0][0]']        \n",
      "                                                                                                  \n",
      " global_average_pooling2d (Glob  (None, 64)          0           ['add_2[0][0]']                  \n",
      " alAveragePooling2D)                                                                              \n",
      "                                                                                                  \n",
      " dense (Dense)                  (None, 128)          8320        ['global_average_pooling2d[0][0]'\n",
      "                                                                 ]                                \n",
      "                                                                                                  \n",
      " dropout (Dropout)              (None, 128)          0           ['dense[0][0]']                  \n",
      "                                                                                                  \n",
      " dense_1 (Dense)                (None, 7)            903         ['dropout[0][0]']                \n",
      "                                                                                                  \n",
      "==================================================================================================\n",
      "Total params: 23,543\n",
      "Trainable params: 22,839\n",
      "Non-trainable params: 704\n",
      "__________________________________________________________________________________________________\n"
     ]
    }
   ],
   "source": [
    "# Resumen del modelo\n",
    "model.summary()"
   ]
  },
  {
   "cell_type": "code",
   "execution_count": 15,
   "id": "d623d1e4-fe36-434e-8b17-0a99a755e744",
   "metadata": {},
   "outputs": [],
   "source": [
    "# Callbacks para entrenamiento\n",
    "checkpoint = tf.keras.callbacks.ModelCheckpoint(\n",
    "    os.path.join(BASE_PATH, 'best_mini_xception_focal_loss_48x48.h5'),\n",
    "    monitor='val_accuracy',\n",
    "    save_best_only=True,\n",
    "    mode='max'\n",
    ")\n",
    "early_stopping = tf.keras.callbacks.EarlyStopping(\n",
    "    monitor='val_accuracy',\n",
    "    patience=15,\n",
    "    mode='max',\n",
    "    restore_best_weights=True\n",
    ")\n",
    "reduce_lr = tf.keras.callbacks.ReduceLROnPlateau(\n",
    "    monitor='val_loss',\n",
    "    factor=0.5,\n",
    "    patience=5,\n",
    "    min_lr=1e-6\n",
    ")"
   ]
  },
  {
   "cell_type": "code",
   "execution_count": 16,
   "id": "ad2fb299-9eef-4162-8d62-45adbe5533ff",
   "metadata": {},
   "outputs": [
    {
     "name": "stdout",
     "output_type": "stream",
     "text": [
      "Epoch 1/50\n",
      "717/717 [==============================] - 661s 919ms/step - loss: 0.3272 - accuracy: 0.2388 - val_loss: 0.3135 - val_accuracy: 0.2563 - lr: 0.0010\n",
      "Epoch 2/50\n",
      "717/717 [==============================] - 661s 921ms/step - loss: 0.3129 - accuracy: 0.2573 - val_loss: 0.3046 - val_accuracy: 0.2671 - lr: 0.0010\n",
      "Epoch 3/50\n",
      "717/717 [==============================] - 654s 912ms/step - loss: 0.3051 - accuracy: 0.2718 - val_loss: 0.3104 - val_accuracy: 0.2627 - lr: 0.0010\n",
      "Epoch 4/50\n",
      "717/717 [==============================] - 653s 911ms/step - loss: 0.2989 - accuracy: 0.2845 - val_loss: 0.3134 - val_accuracy: 0.2701 - lr: 0.0010\n",
      "Epoch 5/50\n",
      "717/717 [==============================] - 664s 927ms/step - loss: 0.2945 - accuracy: 0.2967 - val_loss: 0.2985 - val_accuracy: 0.2828 - lr: 0.0010\n",
      "Epoch 6/50\n",
      "717/717 [==============================] - 656s 915ms/step - loss: 0.2888 - accuracy: 0.3068 - val_loss: 0.2886 - val_accuracy: 0.2788 - lr: 0.0010\n",
      "Epoch 7/50\n",
      "717/717 [==============================] - 679s 946ms/step - loss: 0.2852 - accuracy: 0.3199 - val_loss: 0.2891 - val_accuracy: 0.3071 - lr: 0.0010\n",
      "Epoch 8/50\n",
      "717/717 [==============================] - 678s 945ms/step - loss: 0.2819 - accuracy: 0.3290 - val_loss: 0.2817 - val_accuracy: 0.3200 - lr: 0.0010\n",
      "Epoch 9/50\n",
      "717/717 [==============================] - 682s 951ms/step - loss: 0.2779 - accuracy: 0.3393 - val_loss: 0.2737 - val_accuracy: 0.3556 - lr: 0.0010\n",
      "Epoch 10/50\n",
      "717/717 [==============================] - 652s 909ms/step - loss: 0.2738 - accuracy: 0.3518 - val_loss: 0.2691 - val_accuracy: 0.3703 - lr: 0.0010\n",
      "Epoch 11/50\n",
      "717/717 [==============================] - 667s 930ms/step - loss: 0.2705 - accuracy: 0.3631 - val_loss: 0.2722 - val_accuracy: 0.3478 - lr: 0.0010\n",
      "Epoch 12/50\n",
      "717/717 [==============================] - 723s 1s/step - loss: 0.2665 - accuracy: 0.3737 - val_loss: 0.2760 - val_accuracy: 0.3333 - lr: 0.0010\n",
      "Epoch 13/50\n",
      "717/717 [==============================] - 658s 918ms/step - loss: 0.2558 - accuracy: 0.3995 - val_loss: 0.3003 - val_accuracy: 0.3120 - lr: 0.0010\n",
      "Epoch 17/50\n",
      "717/717 [==============================] - 647s 903ms/step - loss: 0.2523 - accuracy: 0.4082 - val_loss: 0.2705 - val_accuracy: 0.3504 - lr: 0.0010\n",
      "Epoch 18/50\n",
      "717/717 [==============================] - 644s 899ms/step - loss: 0.2506 - accuracy: 0.4126 - val_loss: 0.2565 - val_accuracy: 0.3939 - lr: 0.0010\n",
      "Epoch 19/50\n",
      "717/717 [==============================] - 642s 895ms/step - loss: 0.2489 - accuracy: 0.4111 - val_loss: 0.2418 - val_accuracy: 0.4152 - lr: 0.0010\n",
      "Epoch 20/50\n",
      "717/717 [==============================] - 644s 898ms/step - loss: 0.2464 - accuracy: 0.4163 - val_loss: 0.2497 - val_accuracy: 0.4104 - lr: 0.0010\n",
      "Epoch 21/50\n",
      "717/717 [==============================] - 643s 897ms/step - loss: 0.2436 - accuracy: 0.4233 - val_loss: 0.2521 - val_accuracy: 0.4008 - lr: 0.0010\n",
      "Epoch 22/50\n",
      "717/717 [==============================] - 641s 894ms/step - loss: 0.2434 - accuracy: 0.4234 - val_loss: 0.2363 - val_accuracy: 0.4307 - lr: 0.0010\n",
      "Epoch 23/50\n",
      "717/717 [==============================] - 642s 895ms/step - loss: 0.2413 - accuracy: 0.4288 - val_loss: 0.2354 - val_accuracy: 0.4338 - lr: 0.0010\n",
      "Epoch 24/50\n",
      "717/717 [==============================] - 647s 902ms/step - loss: 0.2399 - accuracy: 0.4358 - val_loss: 0.2496 - val_accuracy: 0.3956 - lr: 0.0010\n",
      "Epoch 25/50\n",
      "717/717 [==============================] - 638s 890ms/step - loss: 0.2394 - accuracy: 0.4308 - val_loss: 0.2402 - val_accuracy: 0.4312 - lr: 0.0010\n",
      "Epoch 26/50\n",
      "717/717 [==============================] - 642s 896ms/step - loss: 0.2393 - accuracy: 0.4327 - val_loss: 0.2931 - val_accuracy: 0.3560 - lr: 0.0010\n",
      "Epoch 27/50\n",
      "717/717 [==============================] - 641s 894ms/step - loss: 0.2370 - accuracy: 0.4381 - val_loss: 0.2419 - val_accuracy: 0.4216 - lr: 0.0010\n",
      "Epoch 28/50\n",
      "717/717 [==============================] - 639s 891ms/step - loss: 0.2356 - accuracy: 0.4411 - val_loss: 0.2450 - val_accuracy: 0.4050 - lr: 0.0010\n",
      "Epoch 29/50\n",
      "717/717 [==============================] - 641s 893ms/step - loss: 0.2316 - accuracy: 0.4474 - val_loss: 0.2252 - val_accuracy: 0.4569 - lr: 5.0000e-04\n",
      "Epoch 30/50\n",
      "717/717 [==============================] - 638s 890ms/step - loss: 0.2290 - accuracy: 0.4492 - val_loss: 0.2218 - val_accuracy: 0.4611 - lr: 5.0000e-04\n",
      "Epoch 31/50\n",
      "717/717 [==============================] - 648s 904ms/step - loss: 0.2269 - accuracy: 0.4570 - val_loss: 0.2277 - val_accuracy: 0.4504 - lr: 5.0000e-04\n",
      "Epoch 32/50\n",
      "717/717 [==============================] - 645s 900ms/step - loss: 0.2283 - accuracy: 0.4565 - val_loss: 0.2276 - val_accuracy: 0.4520 - lr: 5.0000e-04\n",
      "Epoch 33/50\n",
      "717/717 [==============================] - 648s 903ms/step - loss: 0.2255 - accuracy: 0.4580 - val_loss: 0.2418 - val_accuracy: 0.4274 - lr: 5.0000e-04\n",
      "Epoch 34/50\n",
      "717/717 [==============================] - 650s 906ms/step - loss: 0.2252 - accuracy: 0.4571 - val_loss: 0.2264 - val_accuracy: 0.4454 - lr: 5.0000e-04\n",
      "Epoch 35/50\n",
      "717/717 [==============================] - 645s 900ms/step - loss: 0.2234 - accuracy: 0.4612 - val_loss: 0.2207 - val_accuracy: 0.4635 - lr: 5.0000e-04\n",
      "Epoch 36/50\n",
      "717/717 [==============================] - 664s 926ms/step - loss: 0.2241 - accuracy: 0.4609 - val_loss: 0.2407 - val_accuracy: 0.4319 - lr: 5.0000e-04\n",
      "Epoch 37/50\n",
      "717/717 [==============================] - 663s 925ms/step - loss: 0.2240 - accuracy: 0.4639 - val_loss: 0.2221 - val_accuracy: 0.4649 - lr: 5.0000e-04\n",
      "Epoch 38/50\n",
      "717/717 [==============================] - 654s 912ms/step - loss: 0.2225 - accuracy: 0.4654 - val_loss: 0.2221 - val_accuracy: 0.4623 - lr: 5.0000e-04\n",
      "Epoch 39/50\n",
      "717/717 [==============================] - 634s 884ms/step - loss: 0.2222 - accuracy: 0.4669 - val_loss: 0.2204 - val_accuracy: 0.4569 - lr: 5.0000e-04\n",
      "Epoch 40/50\n",
      "717/717 [==============================] - 647s 903ms/step - loss: 0.2221 - accuracy: 0.4635 - val_loss: 0.2200 - val_accuracy: 0.4661 - lr: 5.0000e-04\n",
      "Epoch 41/50\n",
      "717/717 [==============================] - 640s 893ms/step - loss: 0.2214 - accuracy: 0.4665 - val_loss: 0.2149 - val_accuracy: 0.4824 - lr: 5.0000e-04\n",
      "Epoch 42/50\n",
      "717/717 [==============================] - 644s 898ms/step - loss: 0.2199 - accuracy: 0.4694 - val_loss: 0.2167 - val_accuracy: 0.4710 - lr: 5.0000e-04\n",
      "Epoch 43/50\n",
      "717/717 [==============================] - 644s 898ms/step - loss: 0.2191 - accuracy: 0.4704 - val_loss: 0.2179 - val_accuracy: 0.4775 - lr: 5.0000e-04\n",
      "Epoch 44/50\n",
      "717/717 [==============================] - 647s 902ms/step - loss: 0.2183 - accuracy: 0.4745 - val_loss: 0.2152 - val_accuracy: 0.4757 - lr: 5.0000e-04\n",
      "Epoch 45/50\n",
      "717/717 [==============================] - 643s 897ms/step - loss: 0.2189 - accuracy: 0.4709 - val_loss: 0.2225 - val_accuracy: 0.4681 - lr: 5.0000e-04\n",
      "Epoch 46/50\n",
      "717/717 [==============================] - 646s 901ms/step - loss: 0.2180 - accuracy: 0.4725 - val_loss: 0.2113 - val_accuracy: 0.4818 - lr: 5.0000e-04\n",
      "Epoch 47/50\n",
      "717/717 [==============================] - 643s 896ms/step - loss: 0.2187 - accuracy: 0.4738 - val_loss: 0.2174 - val_accuracy: 0.4775 - lr: 5.0000e-04\n",
      "Epoch 48/50\n",
      "717/717 [==============================] - 638s 890ms/step - loss: 0.2168 - accuracy: 0.4738 - val_loss: 0.2199 - val_accuracy: 0.4721 - lr: 5.0000e-04\n",
      "Epoch 49/50\n",
      "717/717 [==============================] - 647s 903ms/step - loss: 0.2186 - accuracy: 0.4746 - val_loss: 0.2230 - val_accuracy: 0.4674 - lr: 5.0000e-04\n",
      "Epoch 50/50\n",
      "717/717 [==============================] - 640s 892ms/step - loss: 0.2175 - accuracy: 0.4765 - val_loss: 0.2170 - val_accuracy: 0.4742 - lr: 5.0000e-04\n"
     ]
    }
   ],
   "source": [
    "# Entrenar el modelo\n",
    "# Cargar el mejor modelo guardado\n",
    "model.load_weights(os.path.join(BASE_PATH, 'best_mini_xception_focal_loss_48x48.h5'))"
   ]
  },
  {
   "cell_type": "code",
   "execution_count": 17,
   "id": "a607bf09-6829-4766-bfbc-d9888142bfd3",
   "metadata": {},
   "outputs": [],
   "source": [
    "# Cargar el mejor modelo guardado\n",
    "model.load_weights(os.path.join(BASE_PATH, 'best_mini_xception_focal_loss_48x48.h5'))"
   ]
  },
  {
   "cell_type": "code",
   "execution_count": 18,
   "id": "87000760-8e6a-4b85-ad45-2a1ce53be85b",
   "metadata": {},
   "outputs": [
    {
     "name": "stdout",
     "output_type": "stream",
     "text": [
      "225/225 [==============================] - 9s 38ms/step - loss: 0.1937 - accuracy: 0.5191\n",
      "Test Loss: 0.1937\n",
      "Test Accuracy: 0.5191\n"
     ]
    }
   ],
   "source": [
    "# Evaluar el modelo en el conjunto de prueba\n",
    "test_loss, test_accuracy = model.evaluate(test_generator)\n",
    "print(f\"Test Loss: {test_loss:.4f}\")\n",
    "print(f\"Test Accuracy: {test_accuracy:.4f}\")"
   ]
  },
  {
   "cell_type": "code",
   "execution_count": 19,
   "id": "09806bb6-c47c-415a-a86c-e22628456c2a",
   "metadata": {},
   "outputs": [
    {
     "name": "stdout",
     "output_type": "stream",
     "text": [
      "225/225 [==============================] - 6s 22ms/step\n"
     ]
    }
   ],
   "source": [
    "# Obtener predicciones y etiquetas reales\n",
    "y_pred = model.predict(test_generator)\n",
    "y_pred_classes = np.argmax(y_pred, axis=1)\n",
    "y_true = test_generator.classes"
   ]
  },
  {
   "cell_type": "code",
   "execution_count": 20,
   "id": "2eaa679c-09be-4a59-adc3-804a1e399e6f",
   "metadata": {},
   "outputs": [
    {
     "name": "stdout",
     "output_type": "stream",
     "text": [
      "Classification Report:\n",
      "              precision    recall  f1-score   support\n",
      "\n",
      "    surprise       0.55      0.76      0.64       831\n",
      "       happy       0.74      0.81      0.77      1774\n",
      "     neutral       0.46      0.62      0.53      1233\n",
      "       angry       0.33      0.50      0.40       958\n",
      "        fear       0.28      0.10      0.15      1024\n",
      "         sad       0.50      0.25      0.33      1247\n",
      "     disgust       0.00      0.00      0.00       111\n",
      "\n",
      "    accuracy                           0.52      7178\n",
      "   macro avg       0.41      0.43      0.40      7178\n",
      "weighted avg       0.50      0.52      0.49      7178\n",
      "\n"
     ]
    },
    {
     "name": "stderr",
     "output_type": "stream",
     "text": [
      "C:\\Users\\maria\\anaconda3\\envs\\pontia-ml\\lib\\site-packages\\sklearn\\metrics\\_classification.py:1509: UndefinedMetricWarning: Precision is ill-defined and being set to 0.0 in labels with no predicted samples. Use `zero_division` parameter to control this behavior.\n",
      "  _warn_prf(average, modifier, f\"{metric.capitalize()} is\", len(result))\n",
      "C:\\Users\\maria\\anaconda3\\envs\\pontia-ml\\lib\\site-packages\\sklearn\\metrics\\_classification.py:1509: UndefinedMetricWarning: Precision is ill-defined and being set to 0.0 in labels with no predicted samples. Use `zero_division` parameter to control this behavior.\n",
      "  _warn_prf(average, modifier, f\"{metric.capitalize()} is\", len(result))\n",
      "C:\\Users\\maria\\anaconda3\\envs\\pontia-ml\\lib\\site-packages\\sklearn\\metrics\\_classification.py:1509: UndefinedMetricWarning: Precision is ill-defined and being set to 0.0 in labels with no predicted samples. Use `zero_division` parameter to control this behavior.\n",
      "  _warn_prf(average, modifier, f\"{metric.capitalize()} is\", len(result))\n"
     ]
    }
   ],
   "source": [
    "# Calcular métricas con Scikit-learn\n",
    "print(\"Classification Report:\")\n",
    "print(classification_report(y_true, y_pred_classes, target_names=CLASSES))"
   ]
  },
  {
   "cell_type": "code",
   "execution_count": 21,
   "id": "463acf1b-6d3a-46c3-8f04-c92cdacbbff4",
   "metadata": {},
   "outputs": [
    {
     "name": "stdout",
     "output_type": "stream",
     "text": [
      "Weighted F1-Score: 0.4878\n"
     ]
    }
   ],
   "source": [
    "# Calcular F1-score promedio\n",
    "f1 = f1_score(y_true, y_pred_classes, average='weighted')\n",
    "print(f\"Weighted F1-Score: {f1:.4f}\")"
   ]
  },
  {
   "cell_type": "code",
   "execution_count": 22,
   "id": "727a9d78-de1f-4296-9202-6baa459bc128",
   "metadata": {},
   "outputs": [
    {
     "data": {
      "image/png": "[encoded data removed]",
      "text/plain": [
       "<Figure size 1000x800 with 2 Axes>"
      ]
     },
     "metadata": {},
     "output_type": "display_data"
    }
   ],
   "source": [
    "# Crear y mostrar la matriz de confusión\n",
    "cm = confusion_matrix(y_true, y_pred_classes)\n",
    "plt.figure(figsize=(10, 8))\n",
    "sns.heatmap(cm, annot=True, fmt='d', cmap='Blues', xticklabels=CLASSES, yticklabels=CLASSES)\n",
    "plt.title('Confusion Matrix')\n",
    "plt.xlabel('Predicted')\n",
    "plt.ylabel('True')\n",
    "plt.show()"
   ]
  },
  {
   "cell_type": "code",
   "execution_count": 23,
   "id": "03fc2cce-9969-40d2-80a1-f89bf4558ee9",
   "metadata": {},
   "outputs": [
    {
     "name": "stdout",
     "output_type": "stream",
     "text": [
      "Análisis de la matriz de confusión:\n",
      "\n",
      "surprise:\n",
      "  Verdaderos positivos: 635\n",
      "  Falsos positivos: 515\n",
      "  Falsos negativos: 196\n",
      "  Se confunde con:\n",
      "    - happy: 51 veces\n",
      "    - neutral: 38 veces\n",
      "    - angry: 44 veces\n",
      "    - fear: 59 veces\n",
      "    - sad: 4 veces\n",
      "\n",
      "happy:\n",
      "  Verdaderos positivos: 1441\n",
      "  Falsos positivos: 510\n",
      "  Falsos negativos: 333\n",
      "  Se confunde con:\n",
      "    - surprise: 80 veces\n",
      "    - neutral: 116 veces\n",
      "    - angry: 102 veces\n",
      "    - fear: 16 veces\n",
      "    - sad: 19 veces\n",
      "\n",
      "neutral:\n",
      "  Verdaderos positivos: 760\n",
      "  Falsos positivos: 881\n",
      "  Falsos negativos: 473\n",
      "  Se confunde con:\n",
      "    - surprise: 60 veces\n",
      "    - happy: 124 veces\n",
      "    - angry: 165 veces\n",
      "    - fear: 44 veces\n",
      "    - sad: 80 veces\n",
      "\n",
      "angry:\n",
      "  Verdaderos positivos: 477\n",
      "  Falsos positivos: 970\n",
      "  Falsos negativos: 481\n",
      "  Se confunde con:\n",
      "    - surprise: 64 veces\n",
      "    - happy: 95 veces\n",
      "    - neutral: 178 veces\n",
      "    - fear: 72 veces\n",
      "    - sad: 72 veces\n",
      "\n",
      "fear:\n",
      "  Verdaderos positivos: 101\n",
      "  Falsos positivos: 258\n",
      "  Falsos negativos: 923\n",
      "  Se confunde con:\n",
      "    - surprise: 255 veces\n",
      "    - happy: 76 veces\n",
      "    - neutral: 177 veces\n",
      "    - angry: 276 veces\n",
      "    - sad: 139 veces\n",
      "\n",
      "sad:\n",
      "  Verdaderos positivos: 312\n",
      "  Falsos positivos: 318\n",
      "  Falsos negativos: 935\n",
      "  Se confunde con:\n",
      "    - surprise: 50 veces\n",
      "    - happy: 144 veces\n",
      "    - neutral: 365 veces\n",
      "    - angry: 315 veces\n",
      "    - fear: 61 veces\n",
      "\n",
      "disgust:\n",
      "  Verdaderos positivos: 0\n",
      "  Falsos positivos: 0\n",
      "  Falsos negativos: 111\n",
      "  Se confunde con:\n",
      "    - surprise: 6 veces\n",
      "    - happy: 20 veces\n",
      "    - neutral: 7 veces\n",
      "    - angry: 68 veces\n",
      "    - fear: 6 veces\n",
      "    - sad: 4 veces\n"
     ]
    }
   ],
   "source": [
    "# Análisis de la matriz de confusión\n",
    "print(\"Análisis de la matriz de confusión:\")\n",
    "for i, emotion in enumerate(CLASSES):\n",
    "    true_positives = cm[i, i]\n",
    "    false_positives = sum(cm[:, i]) - true_positives\n",
    "    false_negatives = sum(cm[i, :]) - true_positives\n",
    "    print(f\"\\n{emotion}:\")\n",
    "    print(f\"  Verdaderos positivos: {true_positives}\")\n",
    "    print(f\"  Falsos positivos: {false_positives}\")\n",
    "    print(f\"  Falsos negativos: {false_negatives}\")\n",
    "    # Identificar clases con las que se confunde\n",
    "    confusions = [(CLASSES[j], cm[i, j]) for j in range(len(CLASSES)) if j != i and cm[i, j] > 0]\n",
    "    if confusions:\n",
    "        print(\"  Se confunde con:\")\n",
    "        for conf_emotion, count in confusions:\n",
    "            print(f\"    - {conf_emotion}: {count} veces\")"
   ]
  }
 ],
 "metadata": {
  "kernelspec": {
   "display_name": "Python (pontia-ml)",
   "language": "python",
   "name": "pontia-ml"
  },
  "language_info": {
   "codemirror_mode": {
    "name": "ipython",
    "version": 3
   },
   "file_extension": ".py",
   "mimetype": "text/x-python",
   "name": "python",
   "nbconvert_exporter": "python",
   "pygments_lexer": "ipython3",
   "version": "3.10.13"
  }
 },
 "nbformat": 4,
 "nbformat_minor": 5
}
