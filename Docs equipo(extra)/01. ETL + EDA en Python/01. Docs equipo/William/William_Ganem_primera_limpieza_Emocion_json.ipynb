{
  "nbformat": 4,
  "nbformat_minor": 0,
  "metadata": {
    "colab": {
      "provenance": []
    },
    "kernelspec": {
      "name": "python3",
      "display_name": "Python 3"
    },
    "language_info": {
      "name": "python"
    }
  },
  "cells": [
    {
      "cell_type": "code",
      "execution_count": null,
      "metadata": {
        "colab": {
          "base_uri": "https://localhost:8080/"
        },
        "id": "VgsGYCXwsous",
        "outputId": "67843ca7-46c3-43d1-d531-9f38ba06a3ce"
      },
      "outputs": [
        {
          "output_type": "stream",
          "name": "stdout",
          "text": [
            "Drive already mounted at /content/drive; to attempt to forcibly remount, call drive.mount(\"/content/drive\", force_remount=True).\n",
            "                 Training_10118481.jpg  Training_10120469.jpg  \\\n",
            "t_id             Training_10118481.jpg  Training_10120469.jpg   \n",
            "emocion                          angry                  angry   \n",
            "tiempo_recogida                    291                    425   \n",
            "\n",
            "                 Training_10131352.jpg  Training_10161559.jpg  \\\n",
            "t_id             Training_10131352.jpg  Training_10161559.jpg   \n",
            "emocion                          angry                  angry   \n",
            "tiempo_recogida                    499                    715   \n",
            "\n",
            "                 Training_1021836.jpg  Training_10269675.jpg  \\\n",
            "t_id             Training_1021836.jpg  Training_10269675.jpg   \n",
            "emocion                         angry                  angry   \n",
            "tiempo_recogida                   301                    415   \n",
            "\n",
            "                 Training_10278738.jpg  Training_10290703.jpg  \\\n",
            "t_id             Training_10278738.jpg  Training_10290703.jpg   \n",
            "emocion                          angry                  angry   \n",
            "tiempo_recogida                    458                    104   \n",
            "\n",
            "                 Training_10295477.jpg  Training_10315441.jpg  ...  \\\n",
            "t_id             Training_10295477.jpg  Training_10315441.jpg  ...   \n",
            "emocion                          angry                  angry  ...   \n",
            "tiempo_recogida                    184                    221  ...   \n",
            "\n",
            "                 PublicTest_97429032.jpg  PublicTest_97536839.jpg  \\\n",
            "t_id             PublicTest_97429032.jpg  PublicTest_97536839.jpg   \n",
            "emocion                         surprise                 surprise   \n",
            "tiempo_recogida                       42                      656   \n",
            "\n",
            "                 PublicTest_97902387.jpg  PublicTest_97957698.jpg  \\\n",
            "t_id             PublicTest_97902387.jpg  PublicTest_97957698.jpg   \n",
            "emocion                         surprise                 surprise   \n",
            "tiempo_recogida                      253                       41   \n",
            "\n",
            "                 PublicTest_97995446.jpg  PublicTest_98089595.jpg  \\\n",
            "t_id             PublicTest_97995446.jpg  PublicTest_98089595.jpg   \n",
            "emocion                         surprise                 surprise   \n",
            "tiempo_recogida                      543                      469   \n",
            "\n",
            "                 PublicTest_98567249.jpg  PublicTest_98972870.jpg  \\\n",
            "t_id             PublicTest_98567249.jpg  PublicTest_98972870.jpg   \n",
            "emocion                         surprise                 surprise   \n",
            "tiempo_recogida                      299                      255   \n",
            "\n",
            "                 PublicTest_99242645.jpg  PublicTest_99446963.jpg  \n",
            "t_id             PublicTest_99242645.jpg  PublicTest_99446963.jpg  \n",
            "emocion                         surprise                 surprise  \n",
            "tiempo_recogida                      573                      466  \n",
            "\n",
            "[3 rows x 35885 columns]\n"
          ]
        }
      ],
      "source": [
        "from google.colab import drive\n",
        "import pandas as pd\n",
        "drive.mount('/content/drive')\n",
        "ruta_json = '//content/drive/MyDrive/Colab Notebooks/emocion.json'\n",
        "df = pd.read_json(ruta_json)\n",
        "print(df)"
      ]
    },
    {
      "cell_type": "code",
      "source": [
        "# Transponer para que columnas sean filas\n",
        "df_transformado = df.T\n",
        "\n",
        "# Renombrar columnas (opcional, para claridad)\n",
        "df_transformado.columns = ['t_id', 'emocion', 'tiempo_recogida']\n",
        "\n",
        "# Mostrar el resultado\n",
        "print(df_transformado)"
      ],
      "metadata": {
        "colab": {
          "base_uri": "https://localhost:8080/"
        },
        "id": "I924m8Q0yY_H",
        "outputId": "10651cc5-6ef0-423a-a161-ac2486d3cc72"
      },
      "execution_count": null,
      "outputs": [
        {
          "output_type": "stream",
          "name": "stdout",
          "text": [
            "                                            t_id   emocion tiempo_recogida\n",
            "Training_10118481.jpg      Training_10118481.jpg     angry             291\n",
            "Training_10120469.jpg      Training_10120469.jpg     angry             425\n",
            "Training_10131352.jpg      Training_10131352.jpg     angry             499\n",
            "Training_10161559.jpg      Training_10161559.jpg     angry             715\n",
            "Training_1021836.jpg        Training_1021836.jpg     angry             301\n",
            "...                                          ...       ...             ...\n",
            "PublicTest_98089595.jpg  PublicTest_98089595.jpg  surprise             469\n",
            "PublicTest_98567249.jpg  PublicTest_98567249.jpg  surprise             299\n",
            "PublicTest_98972870.jpg  PublicTest_98972870.jpg  surprise             255\n",
            "PublicTest_99242645.jpg  PublicTest_99242645.jpg  surprise             573\n",
            "PublicTest_99446963.jpg  PublicTest_99446963.jpg  surprise             466\n",
            "\n",
            "[35885 rows x 3 columns]\n"
          ]
        }
      ]
    },
    {
      "cell_type": "markdown",
      "source": [
        "Siguiendo la misma metodología que usó Ana ella usó df.T y explode para convertir columnas en filas, y json_normalize para separar campos.\n",
        "\n",
        "**Transformar el DataFrame**\n",
        "\n",
        "**Objetivo**: Convertir las 35,885 columnas en filas, con columnas separadas para t_id, emocion, y tiempo_recogida.  \n",
        "\n",
        "**Acción**: Transponer el DataFrame con df.T para que cada fotografía sea una fila, y renombrar las columnas.\n",
        "\n",
        "---\n",
        "\n",
        "**Por qué este paso?**\n",
        "\n",
        "\n",
        "**Alineación con la metodología**: Ana transformó el DataFrame inicial para tener filas individuales antes de limpiar. Aquí, df.T logra lo mismo, ya que el JSON cargado puso los datos como columnas.  \n",
        "\n",
        "**Facilita la limpieza**: Con cada fila representando una fotografía, se puede aplicar filtros (ej. nulos en emocion) y analizar estadísticas como value_counts() para emocion.  \n",
        "\n",
        "**Coherencia**: Prepara el DataFrame para los pasos siguientes (filtros, nulos, duplicados), igual que con duracion.\n",
        "\n"
      ],
      "metadata": {
        "id": "ufye987e9-Mk"
      }
    },
    {
      "cell_type": "code",
      "source": [
        "# Exploración\n",
        "\n",
        "print(\"Frecuencia de emociones:\")\n",
        "print(df_transformado[\"emocion\"].value_counts())\n",
        "\n",
        "print(\"\\nEstadísticas de tiempo_recogida:\")\n",
        "print(df_transformado[\"tiempo_recogida\"].describe())\n",
        "\n",
        "# Diccionario de traducción\n",
        "traduccion_emociones = {\n",
        "    'happy': 'feliz',\n",
        "    'neutral': 'neutral',\n",
        "    'sad': 'triste',\n",
        "    'fear': 'miedo',\n",
        "    'angry': 'enojado',\n",
        "    'surprise': 'sorpresa',\n",
        "    'disgust': 'asco'\n",
        "}\n",
        "# Cambio de idioma de las emociones\n",
        "df_transformado['emocion'] = df_transformado['emocion'].replace(traduccion_emociones)"
      ],
      "metadata": {
        "colab": {
          "base_uri": "https://localhost:8080/"
        },
        "id": "x8jpcz-W1iw7",
        "outputId": "3fdfbab7-6498-4678-acf2-429401f16baf"
      },
      "execution_count": null,
      "outputs": [
        {
          "output_type": "stream",
          "name": "stdout",
          "text": [
            "Frecuencia de emociones:\n",
            "emocion\n",
            "happy       8901\n",
            "neutral     6138\n",
            "sad         6019\n",
            "fear        5075\n",
            "angry       4905\n",
            "surprise    3953\n",
            "disgust      543\n",
            "Name: count, dtype: int64\n",
            "\n",
            "Estadísticas de tiempo_recogida:\n",
            "count     35885\n",
            "unique      718\n",
            "top         150\n",
            "freq         68\n",
            "Name: tiempo_recogida, dtype: int64\n"
          ]
        }
      ]
    },
    {
      "cell_type": "markdown",
      "source": [
        "**Exploración inicial**\n",
        "\n",
        "**Objetivo**: Analizar la distribución de emocion y tiempo_recogida para detectar posibles errores (ej. nulos, valores inválidos).  \n",
        "\n",
        "**Acción**:  \n",
        "Usar value_counts() para emocion (frecuencia de cada emoción).  \n",
        "\n",
        "Usar describe() para tiempo_recogida (estadísticas numéricas).\n",
        "\n",
        "crear un diccionario y traducir el nombre de las emociones a español\n",
        "\n",
        "---\n",
        "\n",
        "count: 35,885 valores no nulos.  \n",
        "\n",
        "unique: 718 valores distintos.  \n",
        "\n",
        "top: 150 (el valor más frecuente).  \n",
        "\n",
        "freq: 68 (el valor 150 aparece 68 veces).  \n",
        "\n",
        "---\n",
        "\n",
        "**Análisis**:\n",
        "\n",
        "**Emociones**:  \n",
        "7 emociones únicas, con \"feliz\" como la más frecuente (8,901) y \"asco\" la menos (543).  \n",
        "\n",
        "No hay valores nulos (suma = 35,885), pero podrían haber inconsistencias (ej. espacios, mayúsculas).\n",
        "\n",
        "**Tiempo_recogida**:  \n",
        "\n",
        "tiempo_recogida: Representa el momento en que se toma cada fotografía, medido en horas desde las 07:00 del 1 de septiembre de 2022.  \n",
        "\n",
        "**rango posible**:  \n",
        "Inicio: 07:00 del 1 de septiembre = hora 0.  \n",
        "\n",
        "Fin: 06:59 del 1 de octubre = hora 743 (31 días x 24 horas = 744, menos 1 hora porque empieza en 07:00).  \n",
        "\n",
        "**Total de horas posibles**: 744 valores (0 a 743).\n",
        "\n",
        "**Resultado tras limpieza**:  \n",
        "unique: 718 (de las estadísticas de df_transformado[\"tiempo_recogida\"].describe()).  \n",
        "\n",
        "---\n",
        "\n",
        "**Filas totales**: 35,534 (fotografías).\n",
        "\n",
        "35,885 valores, todos no nulos.  \n",
        "\n",
        "718 valores únicos en un rango posible de 0 a 743 (31 días x 24 horas - 1, desde 07:00 del 1 de septiembre de 2022).  \n",
        "\n",
        "El valor más común (150) aparece 68 veces, pero falta información sobre mínimos o máximos para detectar errores.\n",
        "\n",
        "---\n",
        "\n",
        "**Por qué es importante**:\n",
        "\n",
        "Cobertura del período del mes:  \n",
        "El proyecto se basa en datos de septiembre de 2022 (31 días). Tener 718 valores únicos de 744 posibles indica que las fotografías se tomaron en el 96.5% de las horas disponibles (718 ÷ 744 ≈ 0.965).  \n",
        "\n",
        "**Importancia**: Esto sugiere una alta cobertura temporal, lo que es clave para analizar patrones de experiencia del usuario (ej. emociones preponderantes por hora o día) y calcular KPIs como \"días con más visitas\" u \"horas pico en atracciones\". Si faltaran muchas horas, los análisis podrían estar sesgados o incompletos.\n",
        "\n",
        "**Fotografías**:  \n",
        "Con 35,534 fotografías y 718 horas únicas, cada hora tiene en promedio 49.5 fotografías (35,534 ÷ 718 = 49.5).  \n",
        "\n",
        "**Importancia**: Esto refleja la actividad en el parque. Un número alto de fotos por hora (como las 68 en la hora más frecuente, 150) puede indicar momentos de alta afluencia, útiles para identificar tiempos de espera máximos o patrones de uso de atracciones. Si hubiera menos valores únicos (ej. solo 100 horas), las fotos estarían concentradas en menos momentos, limitando la representatividad.\n",
        "\n",
        "**Validación de datos temporales**:  \n",
        "El rango de 0 a 743 define el marco temporal válido para septiembre. Que haya 718 valores únicos dentro de este rango (y no más) sugiere que, tras la limpieza, los datos respetan el período del proyecto.  \n",
        "\n",
        "**Importancia**: Esto asegura que no hay errores temporales fuera de septiembre (ej. valores > 743 o negativos), alineándose con la regla implícita de que los datos deben ser del mes especificado. Es un control de calidad para la tarea de \"Identificación de errores e incidencias\".\n",
        "\n",
        "---\n",
        "\n",
        "**Horas no representadas**:  \n",
        "Faltan 26 horas (744 - 718 = 26) del rango posible.  \n",
        "\n",
        "**Importancia**: Estas horas \"vacías\" podrían ser momentos sin visitantes o sin fotografías (ej. noches, cierres del parque)\n",
        "\n",
        "\n",
        "\n"
      ],
      "metadata": {
        "id": "FzEaFXZY_lGP"
      }
    },
    {
      "cell_type": "code",
      "source": [
        "# 1. Filtrar tiempo_recogida (0 a 743 horas en septiembre 2022)\n",
        "df_transformado = df_transformado[(df_transformado[\"tiempo_recogida\"] >= 0) & (df_transformado[\"tiempo_recogida\"] <= 743)]\n",
        "df_transformado = df_transformado.dropna(subset=['emocion', 'tiempo_recogida'])\n",
        "print(\"Frecuencia de emociones tras limpieza:\")\n",
        "print(df_transformado[\"emocion\"].value_counts())\n",
        "\n",
        "print(\"\\nEstadísticas de tiempo_recogida tras limpieza:\")\n",
        "print(df_transformado[\"tiempo_recogida\"].describe())\n",
        "\n",
        "df_transformado['tiempo_recogida'] = df_transformado['tiempo_recogida'].astype(int)\n",
        "print(\"\\nCon include='all' (debería mostrar min, max, etc.):\")\n",
        "print(df_transformado[\"tiempo_recogida\"].describe(include='all'))\n",
        "#.describe(include='all') debería mostrar estadísticas completas para una serie numérica como tiempo_recogida, incluyendo: count, mean, std, min, 25%, 50%, 75%, max, unique, top, freq."
      ],
      "metadata": {
        "colab": {
          "base_uri": "https://localhost:8080/"
        },
        "id": "7oCZQM_32KpJ",
        "outputId": "ed65d3c5-9423-4a5e-af44-a6fa6dde5e65"
      },
      "execution_count": null,
      "outputs": [
        {
          "output_type": "stream",
          "name": "stdout",
          "text": [
            "Frecuencia de emociones tras limpieza:\n",
            "emocion\n",
            "feliz       8901\n",
            "neutral     6138\n",
            "triste      6019\n",
            "miedo       5075\n",
            "enojado     4905\n",
            "sorpresa    3953\n",
            "asco         543\n",
            "Name: count, dtype: int64\n",
            "\n",
            "Estadísticas de tiempo_recogida tras limpieza:\n",
            "count     35534\n",
            "unique      718\n",
            "top         150\n",
            "freq         68\n",
            "Name: tiempo_recogida, dtype: int64\n",
            "\n",
            "Con include='all' (debería mostrar min, max, etc.):\n",
            "count    35534.000000\n",
            "mean       359.514409\n",
            "std        207.300483\n",
            "min          2.000000\n",
            "25%        180.250000\n",
            "50%        359.000000\n",
            "75%        538.000000\n",
            "max        719.000000\n",
            "Name: tiempo_recogida, dtype: float64\n"
          ]
        }
      ]
    },
    {
      "cell_type": "markdown",
      "source": [
        "**Total**: 35,534 (suma de frecuencias).  \n",
        "\n",
        "\n",
        "---\n",
        "\n",
        "\n",
        "**Emociones**: \"happy\", \"neutral\", \"sad\", \"fear\", \"angry\", \"surprise\", \"disgust\" (sin cambios en categorías).\n",
        "\n",
        "\n",
        "---\n",
        "\n",
        "**Estadísticas de tiempo_recogida tras limpieza** (df_transformado[\"tiempo_recogida\"].describe()):\n",
        "\n",
        "count: 35,534 valores no nulos.  \n",
        "\n",
        "unique: 718 valores distintos.  \n",
        "\n",
        "top: 150 (valor más frecuente).  \n",
        "\n",
        "freq: 68 (frecuencia del valor 150).  \n",
        "\n",
        "\n",
        "\n",
        "---\n",
        "\n",
        "**Análisis**:\n",
        "Comparación con antes:  \n",
        "Antes: 35,885 filas (exploración inicial).  \n",
        "\n",
        "Después: 35,534 filas (tras limpieza).  \n",
        "\n",
        "Diferencia: 351 filas eliminadas.\n",
        "\n",
        "\n",
        "---\n",
        "\n",
        "**Impacto de la limpieza**:  \n",
        "Filtro tiempo_recogida (0 a 743): Redujo las filas de 35,885 a 35,534, indicando que 351 valores estaban fuera de rango (< 0 o > 743).  \n",
        "\n",
        "**Nulos (dropna)**: No parece haber eliminado filas adicionales (frecuencias de emociones suman 35,534, igual al count), confirmando que no había nulos.  \n",
        "\n",
        "**Duplicados (drop_duplicates)**: Ningún cambio en el conteo, sugiriendo que no había duplicados por t_id.\n",
        "\n",
        "Los datos se cargaron incorrectamente desde emocion.json y no se convirtieron a tipo numérico, tiempo_recogida debería ser entero (0 a 743), pero .describe(include='all') no calcula min, max, etc., como lo haría con int o float y para solucionarlo debo agregar .astype(int)para forzar el tipo de datos."
      ],
      "metadata": {
        "id": "vHe39jb68ldZ"
      }
    },
    {
      "cell_type": "code",
      "source": [
        "# Identificar horas faltantes\n",
        "\n",
        "#len(horas_faltantes): 26 (confirma que faltan 26 horas de las 744 posibles).\n",
        "#set(range(744)) es el conjunto completo de todas las horas posibles en el mes, desde 0 hasta 743.\n",
        "\n",
        "horas_faltantes = set(range(744)) - set(df_transformado[\"tiempo_recogida\"])\n",
        "\n",
        "#set(df_transformado[\"tiempo_recogida\"]): Toma los valores de la columna tiempo_recogida y los convierte en un conjunto.\n",
        "\n",
        "#set(range(744)) - set(df_transformado[\"tiempo_recogida\"]): Realiza una diferencia de conjuntos, una operación matemática que: Toma el conjunto de todas las horas posibles (set(range(744)))\n",
        "#Elimina todas las horas que están presentes en tiempo_recogida (set(df_transformado[\"tiempo_recogida\"])).\n",
        "\n",
        "print(\"Horas faltantes:\", horas_faltantes)\n",
        "print(\"Cantidad de horas faltantes:\", len(horas_faltantes))"
      ],
      "metadata": {
        "colab": {
          "base_uri": "https://localhost:8080/"
        },
        "id": "Z2lO1kx9Wlcr",
        "outputId": "9f40ce56-05d4-45f7-f0b3-74b425cd45c2"
      },
      "execution_count": null,
      "outputs": [
        {
          "output_type": "stream",
          "name": "stdout",
          "text": [
            "Horas faltantes: {0, 1, 720, 721, 722, 723, 724, 725, 726, 727, 728, 729, 730, 731, 732, 733, 734, 735, 736, 737, 738, 739, 740, 741, 742, 743}\n",
            "Cantidad de horas faltantes: 26\n"
          ]
        }
      ]
    },
    {
      "cell_type": "markdown",
      "source": [
        "**Horas faltantes**: 26 valores específicos: {0, 1, 720, 721, ..., 743}.  \n",
        "\n",
        "**Confirmación**: Coincide con el cálculo previo (744 posibles - 718 únicos = 26).\n",
        "\n",
        "---\n",
        "\n",
        "**Análisis**:\n",
        "Horas representadas:  \n",
        "tiempo_recogida tiene 718 valores únicos de un rango de 0 a 743.  \n",
        "\n",
        "Las 26 horas faltantes son las que no aparecen en ninguna de las 35,534 fotografías tras limpieza.\n",
        "\n",
        "**Distribución temporal**:  \n",
        "Horas 0 y 1:  \n",
        "Hora 0 = 07:00 del 1 de septiembre de 2022.  \n",
        "\n",
        "Hora 1 = 08:00 del 1 de septiembre de 2022.  \n",
        "\n",
        "***Falta el inicio del mes, posiblemente porque no hubo actividad o capturas tan temprano.***\n",
        "\n",
        "**Horas 720 a 743:  **\n",
        "\n",
        "Hora 720 = 07:00 del 31 de septiembre (día 30, 0:00 UTC + 7 horas).  \n",
        "\n",
        "Hora 743 = 06:59 del 1 de octubre (día 30, 23:59 UTC + 7 horas).  \n",
        "\n",
        "**Estas 24 horas cubren todo el 31 de septiembre (día 30 del mes), desde 07:00 hasta las 06:59 del día siguiente.**\n",
        "\n",
        "**Patrón**: Las horas faltantes están concentradas al inicio (0-1) y al final (720-743) del mes.\n",
        "\n",
        "**Impacto**:  \n",
        "Faltan datos de las primeras 2 horas del 1 de septiembre y todo el día 31 de septiembre (24 horas).  \n",
        "\n",
        "**Total de datos**: 35,534 filas tras limpieza, originalmente 35,885 (351 eliminadas, posiblemente algunas de estas horas)."
      ],
      "metadata": {
        "id": "OTglO3XhXQ_5"
      }
    },
    {
      "cell_type": "code",
      "source": [
        "# Visualización\n",
        "# Gráfico de barras para emociones (categórico)\n",
        "import matplotlib.pyplot as plt\n",
        "plt.figure(figsize=(10, 6))\n",
        "df_transformado[\"emocion\"].value_counts().plot(kind='bar', edgecolor='black', alpha=0.7)\n",
        "plt.xlabel(\"Emoción\")\n",
        "plt.ylabel(\"Frecuencia\")\n",
        "plt.title(\"Frecuencia de Emociones (Tras Limpieza)\")\n",
        "plt.show()"
      ],
      "metadata": {
        "colab": {
          "base_uri": "https://localhost:8080/",
          "height": 610
        },
        "id": "PcDXJonufrU4",
        "outputId": "0c3d7a82-b1a5-4d46-ea9d-e63b3610e101"
      },
      "execution_count": null,
      "outputs": [
        {
          "output_type": "display_data",
          "data": {
            "text/plain": [
              "<Figure size 1000x600 with 1 Axes>"
            ],
            "image/png": "[encoded data removed]"
          },
          "metadata": {}
        }
      ]
    },
    {
      "cell_type": "code",
      "source": [
        "# Histograma para tiempo_recogida (numérico)\n",
        "plt.figure(figsize=(10, 6))\n",
        "plt.hist(df_transformado[\"tiempo_recogida\"], bins=20, edgecolor='black', alpha=0.7)\n",
        "plt.xlabel(\"Tiempo Recogida (horas)\")\n",
        "plt.ylabel(\"Frecuencia\")\n",
        "plt.title(\"Histograma de Tiempo Recogida Tras Limpieza\")\n",
        "plt.show()"
      ],
      "metadata": {
        "colab": {
          "base_uri": "https://localhost:8080/",
          "height": 564
        },
        "id": "FQCfBQXZgQ9i",
        "outputId": "feb69465-d433-4bbc-d921-71721a779711"
      },
      "execution_count": null,
      "outputs": [
        {
          "output_type": "display_data",
          "data": {
            "text/plain": [
              "<Figure size 1000x600 with 1 Axes>"
            ],
            "image/png": "[encoded data removed]"
          },
          "metadata": {}
        }
      ]
    },
    {
      "cell_type": "markdown",
      "source": [
        "Tras terminar de revisar este histograma se puede entender que no es nada intuitivo para una presentación a usuarios normales, por lo cuál tengo que transformar la vista actual a un formato más amigable para usuarios no técnicos, como fechas y horas legibles (ej. \"1 de septiembre de 2022, 07:00\"), para mejorar la presentación y el histograma.\n",
        "\n",
        "---\n",
        "\n",
        "**Horas faltantes**: {0, 1, 720, ..., 743} (26 horas).  \n",
        "\n",
        "\n",
        "Voy a convertir tiempo_recogida a un formato de fecha y hora legible usando **datetime** (datetime es un módulo que proporciona herramientas para trabajar con fechas y horas) de Python, sumando las horas al punto de referencia (07:00 del 1 de septiembre de 2022).\n",
        "\n",
        "Esto facilitará:  \n",
        "\n",
        "Explicar las horas faltantes (ej. \"31 de septiembre, 07:00 a 06:59 del 1 de octubre\").  \n",
        "\n",
        "Y hacer un histograma con etiquetas de fechas/horas comprensibles.\n",
        "\n",
        "\n",
        "\n"
      ],
      "metadata": {
        "id": "XwWPPynXhNH0"
      }
    },
    {
      "cell_type": "code",
      "source": [
        "from datetime import datetime, timedelta\n",
        "#import datetime, timedelta: Importa específicamente dos clases (o tipos de objetos) del módulo datetime:\n",
        "#datetime: Una clase para representar una fecha y hora específica (ej. \"2022-09-01 07:00:00\").\n",
        "#timedelta: Una clase para representar una diferencia de tiempo (ej. 291 horas).\n",
        "#Esto nos permite usar datetime y timedelta directamente en el código sin escribir datetime.datetime o datetime.timedelta"
      ],
      "metadata": {
        "id": "p54uhBM6k5xe"
      },
      "execution_count": null,
      "outputs": []
    },
    {
      "cell_type": "markdown",
      "source": [
        "**Datetime**:  \n",
        "Representa un punto específico en el tiempo.  \n",
        "\n",
        "En el proyecto, definimos una fecha base:  \n",
        "\n",
        "\n",
        "fecha_base = datetime(2022, 9, 1, 7, 0)  # 07:00 del 1 de septiembre de 2022\n",
        "\n",
        "**Argumentos**:\n",
        "\n",
        "2022: Año.  \n",
        "\n",
        "9: Mes (septiembre).  \n",
        "\n",
        "1: Día.  \n",
        "\n",
        "7: Hora (en formato 24h).  \n",
        "\n",
        "0: Minutos.\n",
        "\n",
        "**Resultado**: Un objeto datetime que marca el inicio del conteo de tiempo_recogida (hora 0).\n",
        "\n",
        "---\n",
        "\n",
        "**timedelta**:  \n",
        "Representa una duración o intervalo de tiempo (días, horas, minutos, etc.).  \n",
        "\n",
        "En el proyecto, usamos timedelta para sumar horas a la fecha_base:  \n",
        "\n",
        "**Ejemplo**:  \n",
        "\n",
        "Si tiempo_recogida = 291:  \n",
        "timedelta(hours=291) crea un intervalo de 291 horas.  \n",
        "\n",
        "fecha_base + timedelta(hours=291) = \"2022-09-13 10:00:00\" (291 horas después de las 07:00 del 1 de septiembre).\n",
        "\n",
        "Esto convierte cada valor numérico en una fecha/hora legible.\n",
        "\n",
        "timedelta maneja automáticamente el paso de horas a días, meses, etc., respetando el calendario (ej. sumar 720 horas a \"1 Sep 07:00\" da \"31 Sep 07:00\").\n",
        "\n",
        "\n"
      ],
      "metadata": {
        "id": "3aCJaHdmlgwX"
      }
    },
    {
      "cell_type": "code",
      "source": [
        "# Convertir a formato legible\n",
        "fecha_base = datetime(2022, 9, 1, 7, 0)\n",
        "df_transformado['fecha_hora'] = df_transformado['tiempo_recogida'].apply(lambda x: fecha_base + timedelta(hours=int(x)))\n",
        "\n",
        "# Horas faltantes en formato legible\n",
        "horas_faltantes = set(range(744)) - set(df_transformado[\"tiempo_recogida\"])\n",
        "fechas_faltantes = [fecha_base + timedelta(hours=h) for h in horas_faltantes]\n",
        "print(\"Horas faltantes en formato legible:\")\n",
        "for fecha in sorted(fechas_faltantes):\n",
        "    print(fecha)"
      ],
      "metadata": {
        "colab": {
          "base_uri": "https://localhost:8080/"
        },
        "id": "qHODwrP3oEzZ",
        "outputId": "c92cd259-61df-40cb-954a-93a3864e2614"
      },
      "execution_count": null,
      "outputs": [
        {
          "output_type": "stream",
          "name": "stdout",
          "text": [
            "Horas faltantes en formato legible:\n",
            "2022-09-01 07:00:00\n",
            "2022-09-01 08:00:00\n",
            "2022-10-01 07:00:00\n",
            "2022-10-01 08:00:00\n",
            "2022-10-01 09:00:00\n",
            "2022-10-01 10:00:00\n",
            "2022-10-01 11:00:00\n",
            "2022-10-01 12:00:00\n",
            "2022-10-01 13:00:00\n",
            "2022-10-01 14:00:00\n",
            "2022-10-01 15:00:00\n",
            "2022-10-01 16:00:00\n",
            "2022-10-01 17:00:00\n",
            "2022-10-01 18:00:00\n",
            "2022-10-01 19:00:00\n",
            "2022-10-01 20:00:00\n",
            "2022-10-01 21:00:00\n",
            "2022-10-01 22:00:00\n",
            "2022-10-01 23:00:00\n",
            "2022-10-02 00:00:00\n",
            "2022-10-02 01:00:00\n",
            "2022-10-02 02:00:00\n",
            "2022-10-02 03:00:00\n",
            "2022-10-02 04:00:00\n",
            "2022-10-02 05:00:00\n",
            "2022-10-02 06:00:00\n"
          ]
        }
      ]
    },
    {
      "cell_type": "code",
      "source": [
        "plt.figure(figsize=(12, 6))\n",
        "plt.hist(df_transformado[\"fecha_hora\"], bins=30, edgecolor='black', alpha=0.7)\n",
        "plt.xlabel(\"Fecha\")\n",
        "plt.ylabel(\"Cantidad de Fotos\")\n",
        "plt.title(\"Histograma de Fotografías por Fecha\")\n",
        "plt.xticks(rotation=45)  # Rotar etiquetas para legibilidad\n",
        "plt.tight_layout()  # Ajustar diseño\n",
        "plt.show()"
      ],
      "metadata": {
        "colab": {
          "base_uri": "https://localhost:8080/",
          "height": 607
        },
        "id": "NJsIjPkGqPsT",
        "outputId": "6b085597-4ba7-46f3-f9ec-23218e1361b3"
      },
      "execution_count": null,
      "outputs": [
        {
          "output_type": "display_data",
          "data": {
            "text/plain": [
              "<Figure size 1200x600 with 1 Axes>"
            ],
            "image/png": "[encoded data removed]"
          },
          "metadata": {}
        }
      ]
    },
    {
      "cell_type": "code",
      "source": [
        "# Guardar en CSV\n",
        "df_transformado.to_csv(\"emocion_limpio.csv\", index=False)\n",
        "print(\"Datos guardados en 'emocion_limpio.csv'\")"
      ],
      "metadata": {
        "colab": {
          "base_uri": "https://localhost:8080/"
        },
        "id": "2kD6wAyNtLfD",
        "outputId": "7008fee6-960e-49a3-d22f-b4b8306cc0e9"
      },
      "execution_count": null,
      "outputs": [
        {
          "output_type": "stream",
          "name": "stdout",
          "text": [
            "Datos guardados en 'emocion_limpio.csv'\n"
          ]
        }
      ]
    }
  ]
}